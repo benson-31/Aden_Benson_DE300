{
 "cells": [
  {
   "cell_type": "markdown",
   "id": "b0f6264a-f837-4e30-ac61-1a7641ad1083",
   "metadata": {},
   "source": [
    "## Homework 2 - Data Engineering 300\n",
    "### Aden Benson"
   ]
  },
  {
   "cell_type": "markdown",
   "id": "96ab9779-80b4-4e23-afae-22aa02110bc3",
   "metadata": {},
   "source": [
    "#### Part 1: Relational\n",
    "\n",
    "Note: All csv files are loaded into our homework_2 ec2 instance folder"
   ]
  },
  {
   "cell_type": "code",
   "execution_count": 1,
   "id": "cc5d6bf4-b9d0-4833-897f-9c2210a07d19",
   "metadata": {},
   "outputs": [],
   "source": [
    "#!pip install duckdb==1.2.2\n",
    "import duckdb"
   ]
  },
  {
   "cell_type": "code",
   "execution_count": 2,
   "id": "ec6fc972-2a2b-4aa7-be47-0d15b225313e",
   "metadata": {},
   "outputs": [],
   "source": [
    "# Create duckdb connection\n",
    "conn=duckdb.connect('hw2.db', read_only=False)"
   ]
  },
  {
   "cell_type": "code",
   "execution_count": 3,
   "id": "01c0f2fb-e383-4cd1-8671-5d28210edb62",
   "metadata": {},
   "outputs": [
    {
     "data": {
      "text/plain": [
       "'\\n# Add admissions csv\\nadmissions_df=pd.read_csv(\\'hw2_data/ADMISSIONS.csv\\')\\nadmissions_df.to_sql(\"ADMISSIONS\", conn, index=False)\\n\\n# Add d_icd_procedures csv\\nd_icd_procedures_df=pd.read_csv(\\'hw2_data/D_ICD_PROCEDURES.csv\\')\\nd_icd_procedures_df.to_sql(\"D_ICD_PROCEDURES\", conn, index=False)\\n\\n# Add drgcodes csv\\ndrgcodes_df=pd.read_csv(\\'hw2_data/DRGCODES.csv\\')\\ndrgcodes_df.to_sql(\"DRGCODES\", conn, index=False)\\n\\n# Add icustays csv\\nicustays_df=pd.read_csv(\\'hw2_data/ICUSTAYS.csv\\')\\nicustays_df.to_sql(\"ICUSTAYS\", conn, index=False)\\n\\n# Add patients csv\\npatients_df=pd.read_csv(\\'hw2_data/PATIENTS.csv\\')\\npatients_df.to_sql(\"PATIENTS\", conn, index=False)\\n\\n# Add prescriptions csv\\nprescriptions_df=pd.read_csv(\\'hw2_data/PRESCRIPTIONS.csv\\')\\nprescriptions_df.to_sql(\"PRESCRIPTIONS\", conn, index=False)\\n\\n# Add procedures_icd csv\\nprocedures_icd=pd.read_csv(\\'hw2_data/PROCEDURES_ICD.csv\\')\\nprocedures_icd.to_sql(\"PROCEDURES_ICD\", conn, index=False)\\n'"
      ]
     },
     "execution_count": 3,
     "metadata": {},
     "output_type": "execute_result"
    }
   ],
   "source": [
    "# Add our csv files to the duckdb connection\n",
    "import pandas as pd\n",
    "'''\n",
    "# Add admissions csv\n",
    "admissions_df=pd.read_csv('hw2_data/ADMISSIONS.csv')\n",
    "admissions_df.to_sql(\"ADMISSIONS\", conn, index=False)\n",
    "\n",
    "# Add d_icd_procedures csv\n",
    "d_icd_procedures_df=pd.read_csv('hw2_data/D_ICD_PROCEDURES.csv')\n",
    "d_icd_procedures_df.to_sql(\"D_ICD_PROCEDURES\", conn, index=False)\n",
    "\n",
    "# Add drgcodes csv\n",
    "drgcodes_df=pd.read_csv('hw2_data/DRGCODES.csv')\n",
    "drgcodes_df.to_sql(\"DRGCODES\", conn, index=False)\n",
    "\n",
    "# Add icustays csv\n",
    "icustays_df=pd.read_csv('hw2_data/ICUSTAYS.csv')\n",
    "icustays_df.to_sql(\"ICUSTAYS\", conn, index=False)\n",
    "\n",
    "# Add patients csv\n",
    "patients_df=pd.read_csv('hw2_data/PATIENTS.csv')\n",
    "patients_df.to_sql(\"PATIENTS\", conn, index=False)\n",
    "\n",
    "# Add prescriptions csv\n",
    "prescriptions_df=pd.read_csv('hw2_data/PRESCRIPTIONS.csv')\n",
    "prescriptions_df.to_sql(\"PRESCRIPTIONS\", conn, index=False)\n",
    "\n",
    "# Add procedures_icd csv\n",
    "procedures_icd=pd.read_csv('hw2_data/PROCEDURES_ICD.csv')\n",
    "procedures_icd.to_sql(\"PROCEDURES_ICD\", conn, index=False)\n",
    "'''"
   ]
  },
  {
   "cell_type": "code",
   "execution_count": 4,
   "id": "ed80e7f3-1ba1-4086-9f9b-88b0152f22ab",
   "metadata": {},
   "outputs": [],
   "source": [
    "# Close connection and reopen to get rid of .db.wal file\n",
    "conn.close()\n",
    "conn=duckdb.connect('hw2.db', read_only=False)"
   ]
  },
  {
   "cell_type": "code",
   "execution_count": 5,
   "id": "b46c5266-ff90-49ca-808a-5ac407289189",
   "metadata": {},
   "outputs": [
    {
     "data": {
      "text/plain": [
       "┌──────────────────┐\n",
       "│       name       │\n",
       "│     varchar      │\n",
       "├──────────────────┤\n",
       "│ ADMISSIONS       │\n",
       "│ DRGCODES         │\n",
       "│ D_ICD_PROCEDURES │\n",
       "│ ICUSTAYS         │\n",
       "│ PATIENTS         │\n",
       "│ PRESCRIPTIONS    │\n",
       "│ PROCEDURES_ICD   │\n",
       "└──────────────────┘"
      ]
     },
     "execution_count": 5,
     "metadata": {},
     "output_type": "execute_result"
    }
   ],
   "source": [
    "# All tables are loaded, we are now able to proceed with analysis\n",
    "conn.sql('SHOW TABLES;')"
   ]
  },
  {
   "cell_type": "markdown",
   "id": "27309e94-763f-47ec-b512-fbac7f4e55a9",
   "metadata": {},
   "source": [
    "Analysis Question 1: Create a summary of type of drugs and their total amount used by ethnicity. Report the top usage in each ethnicity group. You may have to make certain assumptions in calculating their total amount."
   ]
  },
  {
   "cell_type": "code",
   "execution_count": 6,
   "id": "6641cfe8-a833-4ddc-b537-4cc32100dbb9",
   "metadata": {},
   "outputs": [
    {
     "data": {
      "text/plain": [
       "┌──────────────────────────────────────────────────────────┬──────────────────────────────────────────┬────────────┐\n",
       "│                        ETHNICITY                         │                   DRUG                   │ NUM_ORDERS │\n",
       "│                         varchar                          │                 varchar                  │   int64    │\n",
       "├──────────────────────────────────────────────────────────┼──────────────────────────────────────────┼────────────┤\n",
       "│ AMERICAN INDIAN/ALASKA NATIVE FEDERALLY RECOGNIZED TRIBE │ D5W                                      │          2 │\n",
       "│ AMERICAN INDIAN/ALASKA NATIVE FEDERALLY RECOGNIZED TRIBE │ LeVETiracetam                            │          5 │\n",
       "│ AMERICAN INDIAN/ALASKA NATIVE FEDERALLY RECOGNIZED TRIBE │ Phenylephrine                            │          1 │\n",
       "│ AMERICAN INDIAN/ALASKA NATIVE FEDERALLY RECOGNIZED TRIBE │ Pantoprazole Sodium                      │          2 │\n",
       "│ AMERICAN INDIAN/ALASKA NATIVE FEDERALLY RECOGNIZED TRIBE │ Bacitracin Ointment                      │          1 │\n",
       "│ AMERICAN INDIAN/ALASKA NATIVE FEDERALLY RECOGNIZED TRIBE │ Fentanyl Citrate                         │          2 │\n",
       "│ AMERICAN INDIAN/ALASKA NATIVE FEDERALLY RECOGNIZED TRIBE │ Ranitidine                               │          2 │\n",
       "│ AMERICAN INDIAN/ALASKA NATIVE FEDERALLY RECOGNIZED TRIBE │ Lorazepam                                │          3 │\n",
       "│ AMERICAN INDIAN/ALASKA NATIVE FEDERALLY RECOGNIZED TRIBE │ Meropenem                                │          1 │\n",
       "│ AMERICAN INDIAN/ALASKA NATIVE FEDERALLY RECOGNIZED TRIBE │ Fosphenytoin                             │          5 │\n",
       "│   ·                                                      │      ·                                   │          · │\n",
       "│   ·                                                      │      ·                                   │          · │\n",
       "│   ·                                                      │      ·                                   │          · │\n",
       "│ WHITE                                                    │ Scopolamine Patch                        │         11 │\n",
       "│ WHITE                                                    │ Potassium Chl 20 mEq / 1000 mL NS        │          4 │\n",
       "│ WHITE                                                    │ Potassium Chl 20 mEq / 1000 mL D5 1/2 NS │         15 │\n",
       "│ WHITE                                                    │ Papain 2.5 % Solution                    │          1 │\n",
       "│ WHITE                                                    │ Ondansetron                              │         35 │\n",
       "│ WHITE                                                    │ Allopurinol                              │          6 │\n",
       "│ WHITE                                                    │ Sodium Chloride 0.9%  Flush              │        151 │\n",
       "│ WHITE                                                    │ Aspirin                                  │         44 │\n",
       "│ WHITE                                                    │ Senna                                    │         66 │\n",
       "│ WHITE                                                    │ Pneumococcal Vac Polyvalent              │         27 │\n",
       "├──────────────────────────────────────────────────────────┴──────────────────────────────────────────┴────────────┤\n",
       "│ 1260 rows (20 shown)                                                                                   3 columns │\n",
       "└──────────────────────────────────────────────────────────────────────────────────────────────────────────────────┘"
      ]
     },
     "execution_count": 6,
     "metadata": {},
     "output_type": "execute_result"
    }
   ],
   "source": [
    "# First, create summary of type of drugs and total amount used by ethnicity\n",
    "conn.sql(\n",
    "    \"\"\"\n",
    "    SELECT ethnicity as ETHNICITY,drug as DRUG, count(*) as NUM_ORDERS\n",
    "    FROM PRESCRIPTIONS \n",
    "    JOIN ADMISSIONS ON ADMISSIONS.hadm_id=prescriptions.hadm_id\n",
    "    GROUP BY ethnicity, drug\n",
    "    ORDER BY ethnicity;\n",
    "    \"\"\"\n",
    ")"
   ]
  },
  {
   "cell_type": "code",
   "execution_count": 7,
   "id": "3b349b97-e862-4f8d-96db-24290b7d0ac6",
   "metadata": {},
   "outputs": [
    {
     "data": {
      "text/plain": [
       "┌──────────────────────────────────────────────────────────┬──────────────────────┬────────────┐\n",
       "│                        ETHNICITY                         │         DRUG         │ MAX_AMOUNT │\n",
       "│                         varchar                          │       varchar        │   int64    │\n",
       "├──────────────────────────────────────────────────────────┼──────────────────────┼────────────┤\n",
       "│ AMERICAN INDIAN/ALASKA NATIVE FEDERALLY RECOGNIZED TRIBE │ 5% Dextrose          │         27 │\n",
       "│ ASIAN                                                    │ D5W                  │         27 │\n",
       "│ BLACK/AFRICAN AMERICAN                                   │ Insulin              │         38 │\n",
       "│ HISPANIC OR LATINO                                       │ 5% Dextrose          │         28 │\n",
       "│ HISPANIC/LATINO - PUERTO RICAN                           │ 0.9% Sodium Chloride │         86 │\n",
       "│ OTHER                                                    │ NS                   │         11 │\n",
       "│ UNABLE TO OBTAIN                                         │ 0.9% Sodium Chloride │         28 │\n",
       "│ UNKNOWN/NOT SPECIFIED                                    │ D5W                  │         37 │\n",
       "│ WHITE                                                    │ Potassium Chloride   │        381 │\n",
       "└──────────────────────────────────────────────────────────┴──────────────────────┴────────────┘"
      ]
     },
     "execution_count": 7,
     "metadata": {},
     "output_type": "execute_result"
    }
   ],
   "source": [
    "# Find top usage in each ethnicity\n",
    "conn.sql(\n",
    "    \"\"\"\n",
    "    WITH totals AS (\n",
    "    SELECT ethnicity,drug, count(*) as NUM_ORDERS\n",
    "        FROM PRESCRIPTIONS \n",
    "        JOIN ADMISSIONS ON ADMISSIONS.hadm_id=prescriptions.hadm_id\n",
    "        GROUP BY ethnicity, drug),\n",
    "    max_per_ethnicity AS (\n",
    "        SELECT ethnicity, max(NUM_ORDERS) as MAX_AMOUNT\n",
    "        From totals GROUP BY ethnicity)\n",
    "    SELECT totals.ethnicity as ETHNICITY, drug as DRUG, MAX_AMOUNT as MAX_AMOUNT\n",
    "    From totals\n",
    "    JOIN max_per_ethnicity \n",
    "    ON totals.ethnicity = max_per_ethnicity.ethnicity\n",
    "    AND totals.NUM_ORDERS=max_per_ethnicity.MAX_AMOUNT\n",
    "    ORDER BY ETHNICITY; \n",
    "    \"\"\"\n",
    ")"
   ]
  },
  {
   "cell_type": "markdown",
   "id": "4e7e9744-5199-429d-bd9e-d9fb228bc975",
   "metadata": {},
   "source": [
    "Analysis Question 2: Create a summary of procedures performed on patients by age groups (<=19, 20-49, 50-79, >80). Report the top three procedures, along with the name of the procedures, performed in each age group."
   ]
  },
  {
   "cell_type": "code",
   "execution_count": 92,
   "id": "9dea68cd-7b84-4db2-ba1d-eaee6204a94c",
   "metadata": {},
   "outputs": [
    {
     "data": {
      "text/plain": [
       "┌───────────┬──────────────────────────┬──────────────────┐\n",
       "│ Age_Group │        Procedure         │ Total_Procedures │\n",
       "│  varchar  │         varchar          │      int128      │\n",
       "├───────────┼──────────────────────────┼──────────────────┤\n",
       "│ <=19      │ Venous cath NEC          │                2 │\n",
       "│ <=19      │ Vertebral fx repair      │                1 │\n",
       "│ <=19      │ Interruption vena cava   │                1 │\n",
       "│ 20-49     │ Venous cath NEC          │                9 │\n",
       "│ 20-49     │ Entral infus nutrit sub  │                7 │\n",
       "│ 20-49     │ Insert endotracheal tube │                6 │\n",
       "│ 50-79     │ Venous cath NEC          │               25 │\n",
       "│ 50-79     │ Entral infus nutrit sub  │               22 │\n",
       "│ 50-79     │ Packed cell transfusion  │               13 │\n",
       "│ >80       │ Venous cath NEC          │               16 │\n",
       "│ >80       │ Packed cell transfusion  │               13 │\n",
       "│ >80       │ Insert endotracheal tube │                8 │\n",
       "├───────────┴──────────────────────────┴──────────────────┤\n",
       "│ 12 rows                                       3 columns │\n",
       "└─────────────────────────────────────────────────────────┘"
      ]
     },
     "execution_count": 92,
     "metadata": {},
     "output_type": "execute_result"
    }
   ],
   "source": [
    "conn.sql(\n",
    "    \"\"\"\n",
    "    WITH actual_age AS (\n",
    "    SELECT \n",
    "        date_diff('year', \n",
    "            CAST(PATIENTS.DOB AS DATE),\n",
    "            CAST(ADMISSIONS.admittime AS DATE)) as AGE,\n",
    "        D_ICD_PROCEDURES.short_title as Procedure,\n",
    "        count(*) as procedure_count\n",
    "    FROM PROCEDURES_ICD\n",
    "    JOIN PATIENTS ON PATIENTS.subject_id=PROCEDURES_ICD.subject_id\n",
    "    Join ADMISSIONS ON PROCEDURES_ICD.hadm_id=ADMISSIONS.hadm_id\n",
    "    JOIN D_ICD_PROCEDURES ON PROCEDURES_ICD.icd9_code = D_ICD_PROCEDURES.icd9_code\n",
    "    GROUP BY AGE, D_ICD_PROCEDURES.short_title),\n",
    "    counts AS (\n",
    "        Select CASE\n",
    "                WHEN AGE <=19 THEN '<=19'\n",
    "                WHEN AGE BETWEEN 20 AND 49 THEN '20-49'\n",
    "                WHEN AGE BETWEEN 50 AND 79 THEN '50-79'\n",
    "                ELSE '>80' END AS Age_Group,\n",
    "            Procedure,\n",
    "            SUM(procedure_count) as Total_Procedures,\n",
    "        FROM actual_age\n",
    "        WHERE AGE BETWEEN 0 AND 120\n",
    "        GROUP BY Age_Group, procedure)\n",
    "    Select age_group, Procedure, total_procedures FROM counts\n",
    "    QUALIFY\n",
    "    ROW_NUMBER() OVER (\n",
    "        PARTITION BY age_group\n",
    "        ORDER BY Total_Procedures DESC\n",
    "    ) <= 3\n",
    "    Order by\n",
    "        CASE\n",
    "            WHEN Age_Group = '<=19' THEN 1\n",
    "            WHEN Age_Group = '20-49' THEN 2\n",
    "            WHEN Age_Group = '50-79' THEN 3\n",
    "            WHEN Age_Group = '>80' THEN 4\n",
    "        END, total_procedures DESC;\n",
    "    \"\"\"\n",
    ")"
   ]
  },
  {
   "cell_type": "markdown",
   "id": "f13093f2-e048-4793-8a53-3134b323fb15",
   "metadata": {},
   "source": [
    "Analysis Question 3: How long do patients stay in the ICU? Is there a difference in the ICU length of stay among gender or ethnicity?"
   ]
  },
  {
   "cell_type": "code",
   "execution_count": 9,
   "id": "c749ae3e-aaf5-4deb-ad05-0dacfbadd2db",
   "metadata": {},
   "outputs": [
    {
     "data": {
      "text/plain": [
       "┌───────────┬──────────┬──────────────┬──────────┬───────────┐\n",
       "│ Min_Hours │ Q1_Hours │ Median_Hours │ Q3_Hours │ Max_Hours │\n",
       "│  double   │  double  │    double    │  double  │  double   │\n",
       "├───────────┼──────────┼──────────────┼──────────┼───────────┤\n",
       "│       3.0 │     29.5 │         50.5 │    104.0 │     849.0 │\n",
       "└───────────┴──────────┴──────────────┴──────────┴───────────┘"
      ]
     },
     "execution_count": 9,
     "metadata": {},
     "output_type": "execute_result"
    }
   ],
   "source": [
    "# To start, analyze quantiles of how long patients stay in the ICU.\n",
    "conn.sql(\n",
    "    '''\n",
    "    WITH STAY_LENGTHS AS (\n",
    "    SELECT subject_id, date_diff('hour',\n",
    "                                CAST(intime AS TIMESTAMP),\n",
    "                                CAST(outtime AS TIMESTAMP)) as Hours FROM ICUSTAYS)\n",
    "    SELECT \n",
    "        percentile_cont(0) WITHIN GROUP (ORDER BY Hours) as Min_Hours,\n",
    "        percentile_cont(.25) WITHIN GROUP (ORDER BY Hours) as Q1_Hours,\n",
    "        percentile_cont(.5) WITHIN GROUP (ORDER BY Hours) as Median_Hours,\n",
    "        percentile_cont(.75) WITHIN GROUP (ORDER BY Hours) as Q3_Hours,\n",
    "        percentile_cont(1) WITHIN GROUP (ORDER BY Hours) as Max_Hours,\n",
    "    From STAY_LENGTHS\n",
    "    '''\n",
    ")"
   ]
  },
  {
   "cell_type": "code",
   "execution_count": 10,
   "id": "11e7d7cb-a255-4d91-a09c-7f359060d8f2",
   "metadata": {},
   "outputs": [
    {
     "data": {
      "text/plain": [
       "┌──────────────────────────────────────────────────────────┬─────────┬──────────────┬─────────────┐\n",
       "│                        ethnicity                         │ gender  │ Average_Stay │ Num_Records │\n",
       "│                         varchar                          │ varchar │    double    │    int64    │\n",
       "├──────────────────────────────────────────────────────────┼─────────┼──────────────┼─────────────┤\n",
       "│ AMERICAN INDIAN/ALASKA NATIVE FEDERALLY RECOGNIZED TRIBE │ M       │        272.0 │           2 │\n",
       "│ ASIAN                                                    │ F       │         16.0 │           1 │\n",
       "│ ASIAN                                                    │ M       │        170.0 │           1 │\n",
       "│ BLACK/AFRICAN AMERICAN                                   │ F       │        269.0 │           4 │\n",
       "│ BLACK/AFRICAN AMERICAN                                   │ M       │        71.33 │           3 │\n",
       "│ HISPANIC OR LATINO                                       │ F       │       179.33 │           3 │\n",
       "│ HISPANIC/LATINO - PUERTO RICAN                           │ M       │         78.0 │          15 │\n",
       "│ OTHER                                                    │ F       │         32.0 │           2 │\n",
       "│ OTHER                                                    │ M       │          3.0 │           1 │\n",
       "│ UNABLE TO OBTAIN                                         │ M       │        321.0 │           1 │\n",
       "│ UNKNOWN/NOT SPECIFIED                                    │ F       │       132.89 │           9 │\n",
       "│ UNKNOWN/NOT SPECIFIED                                    │ M       │         51.5 │           2 │\n",
       "│ WHITE                                                    │ F       │       124.73 │          44 │\n",
       "│ WHITE                                                    │ M       │        75.63 │          48 │\n",
       "├──────────────────────────────────────────────────────────┴─────────┴──────────────┴─────────────┤\n",
       "│ 14 rows                                                                               4 columns │\n",
       "└─────────────────────────────────────────────────────────────────────────────────────────────────┘"
      ]
     },
     "execution_count": 10,
     "metadata": {},
     "output_type": "execute_result"
    }
   ],
   "source": [
    "# Next find average ICU length for each pair of gender/ethnicity\n",
    "conn.sql(\n",
    "    '''\n",
    "    SELECT ADMISSIONS.ethnicity, PATIENTS.gender,\n",
    "                        ROUND(AVG(date_diff('hour',\n",
    "                        CAST(intime AS TIMESTAMP),\n",
    "                        CAST(outtime AS TIMESTAMP))),2) as Average_Stay,\n",
    "                        count(*) as Num_Records\n",
    "    FROM ICUSTAYS\n",
    "    JOIN ADMISSIONS on ADMISSIONS.hadm_id = ICUSTAYS.hadm_id\n",
    "    JOIN PATIENTS on ADMISSIONS.subject_id = PATIENTS.subject_id\n",
    "    GROUP BY ADMISSIONS.ethnicity, PATIENTS.gender\n",
    "    ORDER BY ADMISSIONS.ethnicity, PATIENTS.gender;\n",
    "    '''\n",
    ")"
   ]
  },
  {
   "cell_type": "markdown",
   "id": "8c14bcad-5bd1-4bcb-b69e-6fd03656a950",
   "metadata": {},
   "source": [
    "#### Part 2"
   ]
  },
  {
   "cell_type": "markdown",
   "id": "46f76851-e4fd-4bd1-a1fe-ffe0e4a35c24",
   "metadata": {},
   "source": [
    "Question 1 - Connect to Cassandra"
   ]
  },
  {
   "cell_type": "code",
   "execution_count": 11,
   "id": "2bce7672-aa76-4bd7-b686-507f34d2de6a",
   "metadata": {},
   "outputs": [
    {
     "name": "stdout",
     "output_type": "stream",
     "text": [
      "  % Total    % Received % Xferd  Average Speed   Time    Time     Time  Current\n",
      "                                 Dload  Upload   Total   Spent    Left  Speed\n",
      "100  1468  100  1468    0     0   5886      0 --:--:-- --:--:-- --:--:--  5872\n"
     ]
    }
   ],
   "source": [
    "!curl https://certs.secureserver.net/repository/sf-class2-root.crt -O"
   ]
  },
  {
   "cell_type": "code",
   "execution_count": 12,
   "id": "e6671565-fa02-408d-89a9-2389c58028ef",
   "metadata": {},
   "outputs": [
    {
     "name": "stderr",
     "output_type": "stream",
     "text": [
      "/tmp/ipykernel_4974/332746716.py:7: DeprecationWarning: ssl.PROTOCOL_TLSv1_2 is deprecated\n",
      "  ssl_context = SSLContext(PROTOCOL_TLSv1_2)\n"
     ]
    }
   ],
   "source": [
    "from cassandra.cluster import Cluster\n",
    "from ssl import SSLContext, PROTOCOL_TLSv1_2, CERT_REQUIRED\n",
    "from cassandra_sigv4.auth import SigV4AuthProvider\n",
    "import boto3\n",
    "\n",
    "# ssl setup\n",
    "ssl_context = SSLContext(PROTOCOL_TLSv1_2)\n",
    "ssl_context.load_verify_locations('sf-class2-root.crt')  # change your file path for locating the certificate\n",
    "ssl_context.verify_mode = CERT_REQUIRED\n",
    "\n",
    "# boto3 session setup\n",
    "boto_session = boto3.Session(region_name=\"us-east-2\")  # this AWS credentials is specific to `us-east-2` region"
   ]
  },
  {
   "cell_type": "code",
   "execution_count": 13,
   "id": "e3af487f-1204-43cc-aa9c-1756418d46d2",
   "metadata": {},
   "outputs": [],
   "source": [
    "# authorization setup with SigV4\n",
    "auth_provider = SigV4AuthProvider(boto_session)"
   ]
  },
  {
   "cell_type": "code",
   "execution_count": 14,
   "id": "842fa0b0-48a9-4e02-93ab-108e20163118",
   "metadata": {},
   "outputs": [],
   "source": [
    "#cluster setup \n",
    "cluster = Cluster(['cassandra.us-east-2.amazonaws.com'], \n",
    "                  ssl_context=ssl_context, \n",
    "                  auth_provider=auth_provider, \n",
    "                  port=9142)  # TLS only communicates on port 9142\n"
   ]
  },
  {
   "cell_type": "code",
   "execution_count": 15,
   "id": "92628e6d-2839-4fb0-92f8-9dad6728682b",
   "metadata": {},
   "outputs": [],
   "source": [
    "# establishing connection to Keyspace\n",
    "session = cluster.connect()"
   ]
  },
  {
   "cell_type": "code",
   "execution_count": 16,
   "id": "305924f6-7ad0-4f07-b129-d5b993952bc1",
   "metadata": {},
   "outputs": [
    {
     "name": "stdout",
     "output_type": "stream",
     "text": [
      "[]\n"
     ]
    }
   ],
   "source": [
    "# Create custom hw2 keyspace\n",
    "r = session.execute('''\n",
    "    CREATE KEYSPACE IF NOT EXISTS atb2199_ks \n",
    "    WITH replication = {'class': 'SingleRegionStrategy'};\n",
    "    ''')\n",
    "print(r.current_rows)"
   ]
  },
  {
   "cell_type": "code",
   "execution_count": 36,
   "id": "3702255e-55ec-4db0-a62a-0e41d46f4465",
   "metadata": {},
   "outputs": [],
   "source": [
    "from cassandra.cluster import ExecutionProfile, EXEC_PROFILE_DEFAULT\n",
    "from cassandra import ConsistencyLevel\n",
    "\n",
    "\n",
    "# Define execution profile with LOCAL_QUORUM\n",
    "execution_profile = ExecutionProfile(\n",
    "    consistency_level=ConsistencyLevel.LOCAL_QUORUM\n",
    ")\n",
    "\n",
    "# Cluster setup with correct profile\n",
    "cluster = Cluster(\n",
    "    ['cassandra.us-east-2.amazonaws.com'],\n",
    "    ssl_context=ssl_context,\n",
    "    auth_provider=auth_provider,\n",
    "    port=9142,\n",
    "    execution_profiles={EXEC_PROFILE_DEFAULT: execution_profile}\n",
    ")\n",
    "\n",
    "# establishing connection to Keyspace\n",
    "session = cluster.connect()\n",
    "session.set_keyspace('atb2199_ks')  # Replace with your keyspace"
   ]
  },
  {
   "cell_type": "markdown",
   "id": "8ea5b7b0-358f-472a-9753-0b5a963f96d0",
   "metadata": {},
   "source": [
    "Question 2 - Statement signed in narrative"
   ]
  },
  {
   "cell_type": "markdown",
   "id": "9db099e3-60f2-40ec-a1fd-98dfca3a0768",
   "metadata": {},
   "source": [
    "Question 3"
   ]
  },
  {
   "cell_type": "markdown",
   "id": "db3a7e5a-2bac-4eaf-9963-405d8aa2b976",
   "metadata": {},
   "source": [
    "Analysis Question 1: Create a summary of type of drugs and their total amount used by ethnicity. Report the top usage in each ethnicity group. You may have to make certain assumptions in calculating their total amount."
   ]
  },
  {
   "cell_type": "markdown",
   "id": "419e5e86-b72a-4c20-8e64-9f0203227172",
   "metadata": {},
   "source": [
    "Part A"
   ]
  },
  {
   "cell_type": "code",
   "execution_count": 46,
   "id": "986c51bb-02cb-4ac5-980d-8aa66b87d5dd",
   "metadata": {},
   "outputs": [
    {
     "data": {
      "text/plain": [
       "<cassandra.cluster.ResultSet at 0x7a1a472cfa90>"
      ]
     },
     "execution_count": 46,
     "metadata": {},
     "output_type": "execute_result"
    }
   ],
   "source": [
    "session.execute(\"DROP TABLE IF EXISTS question_1\")"
   ]
  },
  {
   "cell_type": "code",
   "execution_count": 47,
   "id": "713d702b-c76b-4a99-81ea-0a4134fb3c24",
   "metadata": {},
   "outputs": [
    {
     "data": {
      "text/plain": [
       "<cassandra.cluster.ResultSet at 0x7a1a472cc810>"
      ]
     },
     "execution_count": 47,
     "metadata": {},
     "output_type": "execute_result"
    }
   ],
   "source": [
    "session.execute(\"\"\"\n",
    "CREATE TABLE IF NOT EXISTS question_1 (\n",
    "    id UUID PRIMARY KEY,\n",
    "    ethnicity text,\n",
    "    drug text\n",
    ")\n",
    "\"\"\")"
   ]
  },
  {
   "cell_type": "markdown",
   "id": "f729f906-b6cf-4023-b282-fd0c8e4afab2",
   "metadata": {},
   "source": [
    "Part B"
   ]
  },
  {
   "cell_type": "code",
   "execution_count": 48,
   "id": "865f7c68-afa1-43bc-905c-abe13c9e4519",
   "metadata": {},
   "outputs": [],
   "source": [
    "import uuid\n",
    "import csv\n",
    "\n",
    "# Create merge csv files together using pandas\n",
    "drugs_df=pd.read_csv('hw2_data/PRESCRIPTIONS.csv', usecols=['hadm_id','drug'])\n",
    "admissions_df=pd.read_csv('hw2_data/ADMISSIONS.csv', usecols=['hadm_id','ethnicity'])\n",
    "df1=drugs_df.merge(admissions_df, on='hadm_id', how='inner')\n",
    "\n",
    "# Upload information to Cassandra\n",
    "for i in range(df1.shape[0]): \n",
    "    session.execute(\"\"\"\n",
    "        INSERT INTO question_1 (id, ethnicity, drug)\n",
    "        VALUES (%s, %s, %s)\n",
    "    \"\"\", (uuid.uuid4(), df1.loc[i,'ethnicity'], df1.loc[i, 'drug']))"
   ]
  },
  {
   "cell_type": "markdown",
   "id": "92735abc-455d-4a0b-ba67-9db685f5d5bd",
   "metadata": {},
   "source": [
    "Part C"
   ]
  },
  {
   "cell_type": "code",
   "execution_count": 49,
   "id": "b5935b3b-9aa8-4145-b217-6b717180afa9",
   "metadata": {},
   "outputs": [],
   "source": [
    "# Extract data from cassandra, then perform post-extraction analysis using python to aggregate.\n",
    "rows=session.execute(\"SELECT ethnicity, drug FROM question_1\")\n",
    "extracted_df=pd.DataFrame(rows, columns=['ethnicity', 'drug'])\n",
    "\n",
    "# Create counts per prescription using pandas.groupby function\n",
    "counts=extracted_df.groupby(['ethnicity', 'drug']).size().reset_index(name='total_orders')\n",
    "\n",
    "# Pick drug with max total_orders in each ethnicity\n",
    "# First, find id number for each maximum grouped over ethnicity using idxmax\n",
    "max_ids=counts.groupby('ethnicity')['total_orders'].idxmax()\n",
    "# Then, create a dataframe using these ids\n",
    "q1_df=counts.loc[max_ids]"
   ]
  },
  {
   "cell_type": "markdown",
   "id": "1daff0c5-1f28-4a33-9dfa-a31d923dda83",
   "metadata": {},
   "source": [
    "Part D"
   ]
  },
  {
   "cell_type": "code",
   "execution_count": 50,
   "id": "d1b88759-660f-4fd2-8818-52bf16d5d81f",
   "metadata": {},
   "outputs": [
    {
     "data": {
      "text/html": [
       "<div>\n",
       "<style scoped>\n",
       "    .dataframe tbody tr th:only-of-type {\n",
       "        vertical-align: middle;\n",
       "    }\n",
       "\n",
       "    .dataframe tbody tr th {\n",
       "        vertical-align: top;\n",
       "    }\n",
       "\n",
       "    .dataframe thead th {\n",
       "        text-align: right;\n",
       "    }\n",
       "</style>\n",
       "<table border=\"1\" class=\"dataframe\">\n",
       "  <thead>\n",
       "    <tr style=\"text-align: right;\">\n",
       "      <th></th>\n",
       "      <th>ethnicity</th>\n",
       "      <th>drug</th>\n",
       "      <th>total_orders</th>\n",
       "    </tr>\n",
       "  </thead>\n",
       "  <tbody>\n",
       "    <tr>\n",
       "      <th>2</th>\n",
       "      <td>AMERICAN INDIAN/ALASKA NATIVE FEDERALLY RECOGN...</td>\n",
       "      <td>5% Dextrose</td>\n",
       "      <td>27</td>\n",
       "    </tr>\n",
       "    <tr>\n",
       "      <th>89</th>\n",
       "      <td>ASIAN</td>\n",
       "      <td>D5W</td>\n",
       "      <td>27</td>\n",
       "    </tr>\n",
       "    <tr>\n",
       "      <th>205</th>\n",
       "      <td>BLACK/AFRICAN AMERICAN</td>\n",
       "      <td>Insulin</td>\n",
       "      <td>38</td>\n",
       "    </tr>\n",
       "    <tr>\n",
       "      <th>294</th>\n",
       "      <td>HISPANIC OR LATINO</td>\n",
       "      <td>5% Dextrose</td>\n",
       "      <td>28</td>\n",
       "    </tr>\n",
       "    <tr>\n",
       "      <th>377</th>\n",
       "      <td>HISPANIC/LATINO - PUERTO RICAN</td>\n",
       "      <td>0.9% Sodium Chloride</td>\n",
       "      <td>86</td>\n",
       "    </tr>\n",
       "    <tr>\n",
       "      <th>555</th>\n",
       "      <td>OTHER</td>\n",
       "      <td>NS</td>\n",
       "      <td>11</td>\n",
       "    </tr>\n",
       "    <tr>\n",
       "      <th>572</th>\n",
       "      <td>UNABLE TO OBTAIN</td>\n",
       "      <td>0.9% Sodium Chloride</td>\n",
       "      <td>28</td>\n",
       "    </tr>\n",
       "    <tr>\n",
       "      <th>655</th>\n",
       "      <td>UNKNOWN/NOT SPECIFIED</td>\n",
       "      <td>D5W</td>\n",
       "      <td>37</td>\n",
       "    </tr>\n",
       "    <tr>\n",
       "      <th>1152</th>\n",
       "      <td>WHITE</td>\n",
       "      <td>Potassium Chloride</td>\n",
       "      <td>381</td>\n",
       "    </tr>\n",
       "  </tbody>\n",
       "</table>\n",
       "</div>"
      ],
      "text/plain": [
       "                                              ethnicity                  drug  \\\n",
       "2     AMERICAN INDIAN/ALASKA NATIVE FEDERALLY RECOGN...           5% Dextrose   \n",
       "89                                                ASIAN                   D5W   \n",
       "205                              BLACK/AFRICAN AMERICAN               Insulin   \n",
       "294                                  HISPANIC OR LATINO           5% Dextrose   \n",
       "377                      HISPANIC/LATINO - PUERTO RICAN  0.9% Sodium Chloride   \n",
       "555                                               OTHER                    NS   \n",
       "572                                    UNABLE TO OBTAIN  0.9% Sodium Chloride   \n",
       "655                               UNKNOWN/NOT SPECIFIED                   D5W   \n",
       "1152                                              WHITE    Potassium Chloride   \n",
       "\n",
       "      total_orders  \n",
       "2               27  \n",
       "89              27  \n",
       "205             38  \n",
       "294             28  \n",
       "377             86  \n",
       "555             11  \n",
       "572             28  \n",
       "655             37  \n",
       "1152           381  "
      ]
     },
     "execution_count": 50,
     "metadata": {},
     "output_type": "execute_result"
    }
   ],
   "source": [
    "q1_df"
   ]
  },
  {
   "cell_type": "markdown",
   "id": "bcadf851-e969-460b-a17d-c97f18c694e6",
   "metadata": {},
   "source": [
    "Analysis Question 2: Create a summary of procedures performed on patients by age groups (<=19, 20-49, 50-79, >80). Report the top three procedures, along with the name of the procedures, performed in each age group."
   ]
  },
  {
   "cell_type": "markdown",
   "id": "3f9a7b24-5794-410b-aa17-6658cc15be1a",
   "metadata": {},
   "source": [
    "Part A"
   ]
  },
  {
   "cell_type": "code",
   "execution_count": 51,
   "id": "207ebc2c-942d-478e-8aaf-815ba7925056",
   "metadata": {},
   "outputs": [
    {
     "data": {
      "text/plain": [
       "<cassandra.cluster.ResultSet at 0x7a1a472a80d0>"
      ]
     },
     "execution_count": 51,
     "metadata": {},
     "output_type": "execute_result"
    }
   ],
   "source": [
    "session.execute(\"DROP TABLE IF EXISTS question_2\")"
   ]
  },
  {
   "cell_type": "code",
   "execution_count": 54,
   "id": "ff1d6780-ae0f-4ef0-b9eb-4a697b4e1a1c",
   "metadata": {},
   "outputs": [
    {
     "data": {
      "text/plain": [
       "<cassandra.cluster.ResultSet at 0x7a1a472326d0>"
      ]
     },
     "execution_count": 54,
     "metadata": {},
     "output_type": "execute_result"
    }
   ],
   "source": [
    "session.execute(\"\"\"\n",
    "CREATE TABLE IF NOT EXISTS question_2 (\n",
    "    id UUID PRIMARY KEY,\n",
    "    hadm_id int,\n",
    "    subject_id int,\n",
    "    short_title text,\n",
    "    dob timestamp,\n",
    "    admittime timestamp,\n",
    ")\n",
    "\"\"\")"
   ]
  },
  {
   "cell_type": "markdown",
   "id": "5f7a32bd-0d17-4c7b-ab9a-80846bbc92fd",
   "metadata": {},
   "source": [
    "Part B"
   ]
  },
  {
   "cell_type": "code",
   "execution_count": 62,
   "id": "be37655b-fb6b-4336-86c4-bdab6f76c824",
   "metadata": {},
   "outputs": [],
   "source": [
    "# Load csvs\n",
    "proc_icd=pd.read_csv('hw2_data/PROCEDURES_ICD.csv', usecols=['subject_id','hadm_id','icd9_code'])\n",
    "d_icd=pd.read_csv('hw2_data/D_ICD_PROCEDURES.csv', usecols=['icd9_code','short_title'])\n",
    "admissions=pd.read_csv('hw2_data/ADMISSIONS.csv', usecols=['subject_id','hadm_id','admittime'])\n",
    "patients=pd.read_csv('hw2_data/PATIENTS.csv', usecols=['subject_id','dob'])\n",
    "\n",
    "# Merge dfs together\n",
    "df=proc_icd.merge(d_icd, on='icd9_code',how='left')\n",
    "df=df.merge(admissions, on=['subject_id','hadm_id'], how='left')\n",
    "df2=df.merge(patients, on='subject_id',how='left')\n",
    "\n",
    "# Fill nan values with a string, was getting a type error\n",
    "df2['short_title'] = df2['short_title'].fillna('UNKNOWN_PROCEDURE')\n",
    "\n",
    "# Insert into Cassandra\n",
    "for i in range(df2.shape[0]): \n",
    "    session.execute(\"\"\"\n",
    "        INSERT INTO question_2 (id, hadm_id, subject_id, short_title, dob, admittime)\n",
    "        VALUES (%s, %s, %s, %s, %s, %s)\n",
    "    \"\"\", (uuid.uuid4(), df2.loc[i,'hadm_id'], df2.loc[i, 'subject_id'], df2.loc[i, 'short_title'], df2.loc[i, 'dob'], df2.loc[i, 'admittime']))\n",
    "    "
   ]
  },
  {
   "cell_type": "markdown",
   "id": "9b0ce83e-0ca8-449e-b616-0ef3ad0e1727",
   "metadata": {},
   "source": [
    "Part C"
   ]
  },
  {
   "cell_type": "code",
   "execution_count": 93,
   "id": "598f9407-381d-48a0-858f-8378e8b8c6fd",
   "metadata": {},
   "outputs": [],
   "source": [
    "# Extract data\n",
    "rows=session.execute(\"\"\"SELECT hadm_id, short_title AS procedure_name, admittime, dob FROM question_2\"\"\")\n",
    "extracted_df2=pd.DataFrame(rows, columns=['hadm_id','procedure_name','admittime','dob'])\n",
    "\n",
    "# Create age column\n",
    "extracted_df2['admittime']=pd.to_datetime(extracted_df2['admittime'])\n",
    "extracted_df2['dob']=pd.to_datetime(extracted_df2['dob'])\n",
    "# For the age column, first set both admittime and dob as numpy arrays, then subtract, then turn into years. \n",
    "# Was getting int overflow errors before\n",
    "extracted_df2['age']=((extracted_df2['admittime'].to_numpy(dtype='datetime64[D]')\n",
    "                      -extracted_df2['dob'].to_numpy(dtype='datetime64[D]')).astype(int))//365\n",
    "\n",
    "# Now, we can turn the age col into age buckets\n",
    "# Define a helper function\n",
    "def helper_bucket(age):\n",
    "    if age <= 19:\n",
    "        return '<=19'\n",
    "    elif age <= 49:\n",
    "        return '20-49'\n",
    "    elif age <= 79:\n",
    "        return '50-79'\n",
    "    else:\n",
    "        return '>80'\n",
    "extracted_df2['age_group']=extracted_df2['age'].map(helper_bucket)\n",
    "\n",
    "# Now, we can aggregate and pick the top three, similar to the aggregation done in analysis question 1\n",
    "# First, get a column of counts grouped by age group and procedure name\n",
    "counts=extracted_df2.groupby(['age_group','procedure_name']).size().reset_index(name='total_count')\n",
    "\n",
    "# Now, select the top three from counts using .head(i), which displays the top i entries for each groupby. Sort_values makes this easy\n",
    "top3=counts.sort_values(['age_group','total_count'], ascending=[True, False]).groupby('age_group').head(3)"
   ]
  },
  {
   "cell_type": "markdown",
   "id": "d8bb7d5e-b484-4a13-abe0-a41aa32d2ca0",
   "metadata": {},
   "source": [
    "Part D"
   ]
  },
  {
   "cell_type": "code",
   "execution_count": 94,
   "id": "d8e289e3-30d1-47de-890e-e31f774e2934",
   "metadata": {},
   "outputs": [
    {
     "data": {
      "text/html": [
       "<div>\n",
       "<style scoped>\n",
       "    .dataframe tbody tr th:only-of-type {\n",
       "        vertical-align: middle;\n",
       "    }\n",
       "\n",
       "    .dataframe tbody tr th {\n",
       "        vertical-align: top;\n",
       "    }\n",
       "\n",
       "    .dataframe thead th {\n",
       "        text-align: right;\n",
       "    }\n",
       "</style>\n",
       "<table border=\"1\" class=\"dataframe\">\n",
       "  <thead>\n",
       "    <tr style=\"text-align: right;\">\n",
       "      <th></th>\n",
       "      <th>age_group</th>\n",
       "      <th>procedure_name</th>\n",
       "      <th>total_count</th>\n",
       "    </tr>\n",
       "  </thead>\n",
       "  <tbody>\n",
       "    <tr>\n",
       "      <th>47</th>\n",
       "      <td>20-49</td>\n",
       "      <td>Venous cath NEC</td>\n",
       "      <td>9</td>\n",
       "    </tr>\n",
       "    <tr>\n",
       "      <th>13</th>\n",
       "      <td>20-49</td>\n",
       "      <td>Entral infus nutrit sub</td>\n",
       "      <td>7</td>\n",
       "    </tr>\n",
       "    <tr>\n",
       "      <th>9</th>\n",
       "      <td>20-49</td>\n",
       "      <td>Cont inv mec ven 96+ hrs</td>\n",
       "      <td>6</td>\n",
       "    </tr>\n",
       "    <tr>\n",
       "      <th>148</th>\n",
       "      <td>50-79</td>\n",
       "      <td>Venous cath NEC</td>\n",
       "      <td>26</td>\n",
       "    </tr>\n",
       "    <tr>\n",
       "      <th>80</th>\n",
       "      <td>50-79</td>\n",
       "      <td>Entral infus nutrit sub</td>\n",
       "      <td>22</td>\n",
       "    </tr>\n",
       "    <tr>\n",
       "      <th>111</th>\n",
       "      <td>50-79</td>\n",
       "      <td>Packed cell transfusion</td>\n",
       "      <td>13</td>\n",
       "    </tr>\n",
       "    <tr>\n",
       "      <th>166</th>\n",
       "      <td>&lt;=19</td>\n",
       "      <td>Venous cath NEC</td>\n",
       "      <td>2</td>\n",
       "    </tr>\n",
       "    <tr>\n",
       "      <th>149</th>\n",
       "      <td>&lt;=19</td>\n",
       "      <td>Applic ext fix dev-femur</td>\n",
       "      <td>1</td>\n",
       "    </tr>\n",
       "    <tr>\n",
       "      <th>150</th>\n",
       "      <td>&lt;=19</td>\n",
       "      <td>Atlas-axis fusion</td>\n",
       "      <td>1</td>\n",
       "    </tr>\n",
       "    <tr>\n",
       "      <th>238</th>\n",
       "      <td>&gt;80</td>\n",
       "      <td>Venous cath NEC</td>\n",
       "      <td>19</td>\n",
       "    </tr>\n",
       "    <tr>\n",
       "      <th>216</th>\n",
       "      <td>&gt;80</td>\n",
       "      <td>Packed cell transfusion</td>\n",
       "      <td>13</td>\n",
       "    </tr>\n",
       "    <tr>\n",
       "      <th>197</th>\n",
       "      <td>&gt;80</td>\n",
       "      <td>Insert endotracheal tube</td>\n",
       "      <td>8</td>\n",
       "    </tr>\n",
       "  </tbody>\n",
       "</table>\n",
       "</div>"
      ],
      "text/plain": [
       "    age_group            procedure_name  total_count\n",
       "47      20-49           Venous cath NEC            9\n",
       "13      20-49   Entral infus nutrit sub            7\n",
       "9       20-49  Cont inv mec ven 96+ hrs            6\n",
       "148     50-79           Venous cath NEC           26\n",
       "80      50-79   Entral infus nutrit sub           22\n",
       "111     50-79   Packed cell transfusion           13\n",
       "166      <=19           Venous cath NEC            2\n",
       "149      <=19  Applic ext fix dev-femur            1\n",
       "150      <=19         Atlas-axis fusion            1\n",
       "238       >80           Venous cath NEC           19\n",
       "216       >80   Packed cell transfusion           13\n",
       "197       >80  Insert endotracheal tube            8"
      ]
     },
     "execution_count": 94,
     "metadata": {},
     "output_type": "execute_result"
    }
   ],
   "source": [
    "top3"
   ]
  },
  {
   "cell_type": "markdown",
   "id": "b3eed79a-4872-49bb-b113-ff13a44ec3e3",
   "metadata": {},
   "source": [
    "Analysis Question 3: How long do patients stay in the ICU? Is there a difference in the ICU length of stay among gender or ethnicity?"
   ]
  },
  {
   "cell_type": "markdown",
   "id": "9aaec306-e55e-4678-89e2-bbfbcdc43578",
   "metadata": {},
   "source": [
    "Part A"
   ]
  },
  {
   "cell_type": "code",
   "execution_count": 95,
   "id": "11696095-0aac-4509-b2b7-9233d7d5fdc4",
   "metadata": {},
   "outputs": [
    {
     "data": {
      "text/plain": [
       "<cassandra.cluster.ResultSet at 0x7a1a423d0650>"
      ]
     },
     "execution_count": 95,
     "metadata": {},
     "output_type": "execute_result"
    }
   ],
   "source": [
    "session.execute(\"DROP TABLE IF EXISTS question_3\")"
   ]
  },
  {
   "cell_type": "code",
   "execution_count": 97,
   "id": "40fa7ee9-ed51-400e-8fc9-fbdc3876c67e",
   "metadata": {},
   "outputs": [
    {
     "data": {
      "text/plain": [
       "<cassandra.cluster.ResultSet at 0x7a1a49dba810>"
      ]
     },
     "execution_count": 97,
     "metadata": {},
     "output_type": "execute_result"
    }
   ],
   "source": [
    "session.execute(\"\"\"\n",
    "CREATE TABLE IF NOT EXISTS question_3 (\n",
    "    id UUID PRIMARY KEY,\n",
    "    hadm_id int,\n",
    "    subject_id int,\n",
    "    intime timestamp,\n",
    "    outtime timestamp,\n",
    "    ethnicity text,\n",
    "    gender text\n",
    ")\n",
    "\"\"\")"
   ]
  },
  {
   "cell_type": "markdown",
   "id": "0981abf4-f42b-41ff-b78c-fe81503695b7",
   "metadata": {},
   "source": [
    "Part B"
   ]
  },
  {
   "cell_type": "code",
   "execution_count": 100,
   "id": "a6bc1875-9f32-4db6-bc93-d48883a72c0b",
   "metadata": {},
   "outputs": [],
   "source": [
    "# Upload csv files\n",
    "icustays=pd.read_csv('hw2_data/ICUSTAYS.csv', usecols=['subject_id','hadm_id','intime','outtime'])\n",
    "admissions=pd.read_csv('hw2_data/ADMISSIONS.csv', usecols=['hadm_id','ethnicity'])\n",
    "patients=pd.read_csv('hw2_data/PATIENTS.csv', usecols=['subject_id','gender'])\n",
    "\n",
    "# Merge dfs together\n",
    "df3=icustays.merge(admissions, on='hadm_id',how='left').merge(patients, on='subject_id',how='left')\n",
    "\n",
    "# Insert into Cassandra\n",
    "for i in range(df3.shape[0]): \n",
    "    session.execute(\"\"\"\n",
    "        INSERT INTO question_3 (id, hadm_id, subject_id, intime, outtime, ethnicity, gender)\n",
    "        VALUES (%s, %s, %s, %s, %s, %s, %s)\n",
    "    \"\"\", (uuid.uuid4(), df3.loc[i,'hadm_id'], df3.loc[i, 'subject_id'], df3.loc[i, 'intime'], \n",
    "          df3.loc[i, 'outtime'], df3.loc[i, 'ethnicity'], df3.loc[i, 'gender']))"
   ]
  },
  {
   "cell_type": "markdown",
   "id": "c918d357-ca9a-4752-ba3c-31504d90908f",
   "metadata": {},
   "source": [
    "Part C"
   ]
  },
  {
   "cell_type": "code",
   "execution_count": 109,
   "id": "d8420884-1c5f-4985-891a-a1013d8f457c",
   "metadata": {},
   "outputs": [],
   "source": [
    "# Extract data from Cassandra\n",
    "rows=session.execute(\"\"\"SELECT intime, outtime, ethnicity, gender FROM question_3\"\"\")\n",
    "extracted_df3=pd.DataFrame(rows, columns=['intime','outtime','ethnicity','gender'])\n",
    "\n",
    "# Compute hours column in python, subtracting intime from outtime\n",
    "extracted_df3['hours']=(pd.to_datetime(extracted_df3['outtime'])-\n",
    "                        pd.to_datetime(extracted_df3['intime'])).dt.total_seconds()/3600\n",
    "\n",
    "# First, create percentile dataframe from Part 1 using np.percentile\n",
    "import numpy as np\n",
    "percentiles=np.percentile(extracted_df3['hours'], [0,25,50,75,100])\n",
    "percentile_df=pd.DataFrame({\n",
    "    'Metric': ['Min','Q1','Median','Q3','Max'],\n",
    "    'Value': percentiles})\n",
    "\n",
    "# Next, create dataframe that shows average icu stay length for each combination of gender and ethnicity. \n",
    "average_df3=extracted_df3[['hours','ethnicity','gender']].groupby(['ethnicity','gender']).mean()"
   ]
  },
  {
   "cell_type": "markdown",
   "id": "743cc063-d76d-4bf8-83d4-39db25cdd042",
   "metadata": {},
   "source": [
    "Part D"
   ]
  },
  {
   "cell_type": "code",
   "execution_count": 107,
   "id": "1f54e6f5-5438-49c2-a4da-d01d5148575a",
   "metadata": {},
   "outputs": [
    {
     "data": {
      "text/html": [
       "<div>\n",
       "<style scoped>\n",
       "    .dataframe tbody tr th:only-of-type {\n",
       "        vertical-align: middle;\n",
       "    }\n",
       "\n",
       "    .dataframe tbody tr th {\n",
       "        vertical-align: top;\n",
       "    }\n",
       "\n",
       "    .dataframe thead th {\n",
       "        text-align: right;\n",
       "    }\n",
       "</style>\n",
       "<table border=\"1\" class=\"dataframe\">\n",
       "  <thead>\n",
       "    <tr style=\"text-align: right;\">\n",
       "      <th></th>\n",
       "      <th>Metric</th>\n",
       "      <th>Value</th>\n",
       "    </tr>\n",
       "  </thead>\n",
       "  <tbody>\n",
       "    <tr>\n",
       "      <th>0</th>\n",
       "      <td>Min</td>\n",
       "      <td>2.542222</td>\n",
       "    </tr>\n",
       "    <tr>\n",
       "      <th>1</th>\n",
       "      <td>Q1</td>\n",
       "      <td>29.604097</td>\n",
       "    </tr>\n",
       "    <tr>\n",
       "      <th>2</th>\n",
       "      <td>Median</td>\n",
       "      <td>50.674722</td>\n",
       "    </tr>\n",
       "    <tr>\n",
       "      <th>3</th>\n",
       "      <td>Q3</td>\n",
       "      <td>103.897500</td>\n",
       "    </tr>\n",
       "    <tr>\n",
       "      <th>4</th>\n",
       "      <td>Max</td>\n",
       "      <td>849.756389</td>\n",
       "    </tr>\n",
       "  </tbody>\n",
       "</table>\n",
       "</div>"
      ],
      "text/plain": [
       "   Metric       Value\n",
       "0     Min    2.542222\n",
       "1      Q1   29.604097\n",
       "2  Median   50.674722\n",
       "3      Q3  103.897500\n",
       "4     Max  849.756389"
      ]
     },
     "execution_count": 107,
     "metadata": {},
     "output_type": "execute_result"
    }
   ],
   "source": [
    "percentile_df"
   ]
  },
  {
   "cell_type": "code",
   "execution_count": 110,
   "id": "6c0013fc-5186-4f32-83f6-d21aebba889d",
   "metadata": {},
   "outputs": [
    {
     "data": {
      "text/html": [
       "<div>\n",
       "<style scoped>\n",
       "    .dataframe tbody tr th:only-of-type {\n",
       "        vertical-align: middle;\n",
       "    }\n",
       "\n",
       "    .dataframe tbody tr th {\n",
       "        vertical-align: top;\n",
       "    }\n",
       "\n",
       "    .dataframe thead th {\n",
       "        text-align: right;\n",
       "    }\n",
       "</style>\n",
       "<table border=\"1\" class=\"dataframe\">\n",
       "  <thead>\n",
       "    <tr style=\"text-align: right;\">\n",
       "      <th></th>\n",
       "      <th></th>\n",
       "      <th>hours</th>\n",
       "    </tr>\n",
       "    <tr>\n",
       "      <th>ethnicity</th>\n",
       "      <th>gender</th>\n",
       "      <th></th>\n",
       "    </tr>\n",
       "  </thead>\n",
       "  <tbody>\n",
       "    <tr>\n",
       "      <th>AMERICAN INDIAN/ALASKA NATIVE FEDERALLY RECOGNIZED TRIBE</th>\n",
       "      <th>M</th>\n",
       "      <td>272.091806</td>\n",
       "    </tr>\n",
       "    <tr>\n",
       "      <th rowspan=\"2\" valign=\"top\">ASIAN</th>\n",
       "      <th>F</th>\n",
       "      <td>15.907222</td>\n",
       "    </tr>\n",
       "    <tr>\n",
       "      <th>M</th>\n",
       "      <td>170.815278</td>\n",
       "    </tr>\n",
       "    <tr>\n",
       "      <th rowspan=\"2\" valign=\"top\">BLACK/AFRICAN AMERICAN</th>\n",
       "      <th>F</th>\n",
       "      <td>268.829792</td>\n",
       "    </tr>\n",
       "    <tr>\n",
       "      <th>M</th>\n",
       "      <td>71.453889</td>\n",
       "    </tr>\n",
       "    <tr>\n",
       "      <th>HISPANIC OR LATINO</th>\n",
       "      <th>F</th>\n",
       "      <td>179.031296</td>\n",
       "    </tr>\n",
       "    <tr>\n",
       "      <th>HISPANIC/LATINO - PUERTO RICAN</th>\n",
       "      <th>M</th>\n",
       "      <td>77.833481</td>\n",
       "    </tr>\n",
       "    <tr>\n",
       "      <th rowspan=\"2\" valign=\"top\">OTHER</th>\n",
       "      <th>F</th>\n",
       "      <td>32.067500</td>\n",
       "    </tr>\n",
       "    <tr>\n",
       "      <th>M</th>\n",
       "      <td>2.542222</td>\n",
       "    </tr>\n",
       "    <tr>\n",
       "      <th>UNABLE TO OBTAIN</th>\n",
       "      <th>M</th>\n",
       "      <td>320.568889</td>\n",
       "    </tr>\n",
       "    <tr>\n",
       "      <th rowspan=\"2\" valign=\"top\">UNKNOWN/NOT SPECIFIED</th>\n",
       "      <th>F</th>\n",
       "      <td>133.032407</td>\n",
       "    </tr>\n",
       "    <tr>\n",
       "      <th>M</th>\n",
       "      <td>51.491389</td>\n",
       "    </tr>\n",
       "    <tr>\n",
       "      <th rowspan=\"2\" valign=\"top\">WHITE</th>\n",
       "      <th>F</th>\n",
       "      <td>124.701162</td>\n",
       "    </tr>\n",
       "    <tr>\n",
       "      <th>M</th>\n",
       "      <td>75.693299</td>\n",
       "    </tr>\n",
       "  </tbody>\n",
       "</table>\n",
       "</div>"
      ],
      "text/plain": [
       "                                                                hours\n",
       "ethnicity                                          gender            \n",
       "AMERICAN INDIAN/ALASKA NATIVE FEDERALLY RECOGNI... M       272.091806\n",
       "ASIAN                                              F        15.907222\n",
       "                                                   M       170.815278\n",
       "BLACK/AFRICAN AMERICAN                             F       268.829792\n",
       "                                                   M        71.453889\n",
       "HISPANIC OR LATINO                                 F       179.031296\n",
       "HISPANIC/LATINO - PUERTO RICAN                     M        77.833481\n",
       "OTHER                                              F        32.067500\n",
       "                                                   M         2.542222\n",
       "UNABLE TO OBTAIN                                   M       320.568889\n",
       "UNKNOWN/NOT SPECIFIED                              F       133.032407\n",
       "                                                   M        51.491389\n",
       "WHITE                                              F       124.701162\n",
       "                                                   M        75.693299"
      ]
     },
     "execution_count": 110,
     "metadata": {},
     "output_type": "execute_result"
    }
   ],
   "source": [
    "average_df3"
   ]
  },
  {
   "cell_type": "code",
   "execution_count": null,
   "id": "1728eb8d-23c7-4f84-89ce-81fa51e7440c",
   "metadata": {},
   "outputs": [],
   "source": []
  }
 ],
 "metadata": {
  "kernelspec": {
   "display_name": "Python 3 (ipykernel)",
   "language": "python",
   "name": "python3"
  },
  "language_info": {
   "codemirror_mode": {
    "name": "ipython",
    "version": 3
   },
   "file_extension": ".py",
   "mimetype": "text/x-python",
   "name": "python",
   "nbconvert_exporter": "python",
   "pygments_lexer": "ipython3",
   "version": "3.11.6"
  }
 },
 "nbformat": 4,
 "nbformat_minor": 5
}
