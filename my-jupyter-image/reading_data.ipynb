{
 "cells": [
  {
   "cell_type": "code",
   "execution_count": 2,
   "id": "4dc185e8-6ad0-4c15-88f3-7ec5b749fe6b",
   "metadata": {},
   "outputs": [],
   "source": [
    "import boto3\n",
    "from io import BytesIO\n",
    "import pandas as pd"
   ]
  },
  {
   "cell_type": "markdown",
   "id": "809698a0-3528-44d6-8bb5-5967b7219dfe",
   "metadata": {},
   "source": [
    "NOTE: I tried to copy the steps listed in the lab, but github would not let me do that since i was placing aws keys in my code. I even tried to delete them and then push again, but it would not let me since it was still in the history. Thus, i am just going to show the head of the data that I moved from the aws s3 folder instead of using python code to get this data."
   ]
  },
  {
   "cell_type": "code",
   "execution_count": 4,
   "id": "8ecdc124-f0c9-49e7-8006-995686ede279",
   "metadata": {},
   "outputs": [
    {
     "name": "stdout",
     "output_type": "stream",
     "text": [
      "  first_name last_name  age  gender      occupation           city state\n",
      "0       John       Doe   30    Male        Engineer       New York    NY\n",
      "1       Jane       Doe   28  Female        Engineer    Los Angeles    CA\n",
      "2        Bob     Smith   45    Male         Analyst        Chicago    IL\n",
      "3      Alice   Johnson   35  Female  Data Scientist  San Francisco    CA\n",
      "4        Tom     Brown   50    Male          Lawyer          Miami    FL\n"
     ]
    }
   ],
   "source": [
    "df=pd.read_csv('sample_dataset.csv')\n",
    "print(df.head())"
   ]
  },
  {
   "cell_type": "code",
   "execution_count": null,
   "id": "2f200685-c633-4bb2-8f17-004e718a6e86",
   "metadata": {},
   "outputs": [],
   "source": []
  }
 ],
 "metadata": {
  "kernelspec": {
   "display_name": "Python 3 (ipykernel)",
   "language": "python",
   "name": "python3"
  },
  "language_info": {
   "codemirror_mode": {
    "name": "ipython",
    "version": 3
   },
   "file_extension": ".py",
   "mimetype": "text/x-python",
   "name": "python",
   "nbconvert_exporter": "python",
   "pygments_lexer": "ipython3",
   "version": "3.11.6"
  }
 },
 "nbformat": 4,
 "nbformat_minor": 5
}
