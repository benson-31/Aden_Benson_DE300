{
 "cells": [
  {
   "cell_type": "code",
   "execution_count": 2,
   "id": "59fdaaa6-451a-4e1d-a843-bdc51db189a0",
   "metadata": {},
   "outputs": [],
   "source": [
    "import boto3\n",
    "from io import BytesIO\n",
    "import pandas as pd"
   ]
  },
  {
   "cell_type": "markdown",
   "id": "1358b90a-d63e-4245-843f-892866fab418",
   "metadata": {},
   "source": [
    "NOTE: Github wouldn't let me push with the access keys below since my repo is public, so i removed them after I ran df.head()"
   ]
  },
  {
   "cell_type": "code",
   "execution_count": 1,
   "id": "3cf78c88-237c-4494-9511-5796cae7fecf",
   "metadata": {},
   "outputs": [],
   "source": [
    "#s3 = boto3.client('s3',\n"
   ]
  },
  {
   "cell_type": "code",
   "execution_count": 4,
   "id": "35188515-b146-4e6f-b23b-1a75dba52324",
   "metadata": {},
   "outputs": [
    {
     "name": "stdout",
     "output_type": "stream",
     "text": [
      "  first_name last_name  age  gender      occupation           city state\n",
      "0       John       Doe   30    Male        Engineer       New York    NY\n",
      "1       Jane       Doe   28  Female        Engineer    Los Angeles    CA\n",
      "2        Bob     Smith   45    Male         Analyst        Chicago    IL\n",
      "3      Alice   Johnson   35  Female  Data Scientist  San Francisco    CA\n",
      "4        Tom     Brown   50    Male          Lawyer          Miami    FL\n"
     ]
    }
   ],
   "source": [
    "bucket_name = 'de300spring2025'\n",
    "object_key = 'dinglin_xia/sample_dataset.csv'\n",
    "csv_obj = s3.get_object(Bucket=bucket_name, Key=object_key)\n",
    "body = csv_obj['Body']\n",
    "csv_string = body.read().decode('utf-8')\n",
    "df = pd.read_csv(BytesIO(csv_string.encode()))\n",
    "print(df.head())"
   ]
  },
  {
   "cell_type": "code",
   "execution_count": null,
   "id": "cb760e50-1c33-46aa-b9da-a7e4d977f3f4",
   "metadata": {},
   "outputs": [],
   "source": []
  },
  {
   "cell_type": "code",
   "execution_count": null,
   "id": "c767d498-bce0-4502-8615-8f08621ee36e",
   "metadata": {},
   "outputs": [],
   "source": []
  }
 ],
 "metadata": {
  "kernelspec": {
   "display_name": "Python 3 (ipykernel)",
   "language": "python",
   "name": "python3"
  },
  "language_info": {
   "codemirror_mode": {
    "name": "ipython",
    "version": 3
   },
   "file_extension": ".py",
   "mimetype": "text/x-python",
   "name": "python",
   "nbconvert_exporter": "python",
   "pygments_lexer": "ipython3",
   "version": "3.11.6"
  }
 },
 "nbformat": 4,
 "nbformat_minor": 5
}
